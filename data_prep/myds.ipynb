{
 "cells": [
  {
   "cell_type": "code",
   "execution_count": null,
   "id": "c7f8d6c6",
   "metadata": {},
   "outputs": [],
   "source": [
    "import pandas as pd"
   ]
  },
  {
   "cell_type": "code",
   "execution_count": 49,
   "id": "fd9968c5",
   "metadata": {},
   "outputs": [
    {
     "name": "stderr",
     "output_type": "stream",
     "text": [
      "C:\\Users\\akcah\\AppData\\Local\\Temp\\ipykernel_2804\\2187350561.py:1: DtypeWarning: Columns (0,1,3,4,5,6,7,8,9,10,11,12,13,14,15,16,17,18,19,20,21,22,23,24,25,26,27,28,29,30,31,32,33,34,35,36,37,38,39,40,41,42,43,44,45,46,47,48,49,50,51,52,53,54,55,56,57,58,59,60,61,62,63,64,65,66,67,68,69,70,71,72,73,74,75,76,77,78) have mixed types. Specify dtype option on import or set low_memory=False.\n",
      "  df2 = pd.read_csv(\"../02-16-2018.csv\")\n"
     ]
    }
   ],
   "source": [
    "df2 = pd.read_csv(\"../02-16-2018.csv\")\n",
    "df3 = pd.read_csv(\"../02-21-2018.csv\")\n",
    "df4 = pd.read_csv(\"../03-02-2018.csv\")\n",
    "df2_attack = df2[df2[\"Label\"] != \"Benign\"]\n",
    "df3_attack = df3[df3[\"Label\"] != \"Benign\"]\n",
    "df4_attack = df4[df4[\"Label\"] != \"Benign\"]"
   ]
  },
  {
   "cell_type": "code",
   "execution_count": null,
   "id": "4406c8de",
   "metadata": {},
   "outputs": [],
   "source": [
    "df_attack_all = pd.concat([df2_attack, df3_attack, df4_attack], ignore_index=True)\n",
    "df_attack_all.to_csv(\"all_attacks.csv\", index=False)"
   ]
  },
  {
   "cell_type": "code",
   "execution_count": null,
   "id": "77768a16",
   "metadata": {},
   "outputs": [
    {
     "name": "stdout",
     "output_type": "stream",
     "text": [
      "Tüm saldırılar birleşik:\n",
      "Label\n",
      "DDOS attack-HOIC            686012\n",
      "DoS attacks-Hulk            461912\n",
      "Bot                         286191\n",
      "DoS attacks-SlowHTTPTest    139890\n",
      "DDOS attack-LOIC-UDP          1730\n",
      "Label                            1\n",
      "Name: count, dtype: int64\n"
     ]
    }
   ],
   "source": [
    "print(df_attack_all[\"Label\"].value_counts())"
   ]
  },
  {
   "cell_type": "code",
   "execution_count": null,
   "id": "e407eff6",
   "metadata": {},
   "outputs": [
    {
     "name": "stdout",
     "output_type": "stream",
     "text": [
      "Label\n",
      "DDOS attack-HOIC            68601\n",
      "DoS attacks-Hulk            46191\n",
      "Bot                         28619\n",
      "DoS attacks-SlowHTTPTest    13989\n",
      "DDOS attack-LOIC-UDP          173\n",
      "Label                           1\n",
      "Name: count, dtype: int64\n"
     ]
    }
   ],
   "source": [
    "fraction = 0.1  \n",
    "\n",
    "dfs_sampled = []\n",
    "for label in df_attack_all[\"Label\"].unique():\n",
    "    df_label = df_attack_all[df_attack_all[\"Label\"] == label]\n",
    "    sample_size = max(1, int(len(df_label) * fraction))  \n",
    "    df_sample = df_label.sample(sample_size, random_state=42)\n",
    "    dfs_sampled.append(df_sample)\n",
    "\n",
    "df_sampled = pd.concat(dfs_sampled).reset_index(drop=True)\n",
    "\n",
    "print(df_sampled[\"Label\"].value_counts())\n"
   ]
  },
  {
   "cell_type": "code",
   "execution_count": null,
   "id": "20a50abc",
   "metadata": {},
   "outputs": [
    {
     "name": "stdout",
     "output_type": "stream",
     "text": [
      "Yükleniyor: .\\21-07_first.pcap_Flow.csv\n",
      "Yükleniyor: .\\21-07_second.pcap_Flow.csv\n",
      "Yükleniyor: .\\22-07_first.pcap_Flow.csv\n",
      "Yükleniyor: .\\22-07_second.pcap_Flow.csv\n",
      "Yükleniyor: .\\22-07_third.pcap_Flow.csv\n",
      "Yükleniyor: .\\23-07_first.pcap_Flow.csv\n",
      "Yükleniyor: .\\24-07_ethernet.pcap_Flow.csv\n",
      "Yükleniyor: .\\24-07_wifi.pcap_Flow.csv\n",
      "df1 -> 1472 rows, 84 columns\n",
      "df2 -> 9245 rows, 84 columns\n",
      "df3 -> 6014 rows, 84 columns\n",
      "df4 -> 6662 rows, 84 columns\n",
      "df5 -> 5795 rows, 84 columns\n",
      "df6 -> 10028 rows, 84 columns\n",
      "df7 -> 2796 rows, 84 columns\n",
      "df8 -> 2611 rows, 84 columns\n",
      "total_rows -> 44623\n"
     ]
    }
   ],
   "source": [
    "import os\n",
    "\n",
    "dfs = []\n",
    "\n",
    "for dirname, _, filenames in os.walk('.'):  \n",
    "    for filename in filenames:\n",
    "        if filename.endswith('.csv'):\n",
    "            file_path = os.path.join(dirname, filename)\n",
    "            dfs.append(pd.read_csv(file_path, encoding='latin1'))\n",
    "\n",
    "total_rows = 0\n",
    "for i, data in enumerate(dfs, start=1):\n",
    "    rows, cols = data.shape\n",
    "    print(f'df{i} -> {rows} rows, {cols} columns')\n",
    "    total_rows += rows\n",
    "\n",
    "print(f\"total_rows -> {total_rows}\")\n",
    "\n",
    "my_data = pd.concat(dfs, ignore_index=True)\n",
    "my_data.to_csv(\"my_data.csv\", index=False)\n"
   ]
  },
  {
   "cell_type": "code",
   "execution_count": 78,
   "id": "ae4548af",
   "metadata": {},
   "outputs": [],
   "source": [
    "df = pd.read_csv(\"my_data.csv\", encoding='latin1')\n",
    "df['Label'] = 'BENIGN'\n",
    "df.to_csv(\"my_data.csv\", index=False)\n"
   ]
  },
  {
   "cell_type": "code",
   "execution_count": null,
   "id": "4603503b",
   "metadata": {},
   "outputs": [],
   "source": [
    "df = pd.read_csv(\"my_data.csv\", encoding='latin1')\n",
    "\n",
    "columns_to_drop = ['Flow ID', 'Src IP', 'Src Port', 'Dst IP']\n",
    "df = df.drop(columns=columns_to_drop, errors='ignore') \n",
    "\n",
    "df.to_csv(\"my_data.csv\", index=False)\n"
   ]
  },
  {
   "cell_type": "code",
   "execution_count": 83,
   "id": "18560d14",
   "metadata": {},
   "outputs": [
    {
     "data": {
      "text/plain": [
       "(44623, 80)"
      ]
     },
     "execution_count": 83,
     "metadata": {},
     "output_type": "execute_result"
    }
   ],
   "source": [
    "df.shape"
   ]
  },
  {
   "cell_type": "code",
   "execution_count": 84,
   "id": "8bbb5e50",
   "metadata": {},
   "outputs": [
    {
     "data": {
      "text/plain": [
       "(157574, 80)"
      ]
     },
     "execution_count": 84,
     "metadata": {},
     "output_type": "execute_result"
    }
   ],
   "source": [
    "df_sampled.shape"
   ]
  },
  {
   "cell_type": "code",
   "execution_count": 86,
   "id": "ec5bfba7",
   "metadata": {},
   "outputs": [
    {
     "data": {
      "text/plain": [
       "Index(['Flow ID', 'Src IP', 'Src Port', 'Dst IP', 'Dst Port', 'Protocol',\n",
       "       'Timestamp', 'Flow Duration', 'Total Fwd Packet', 'Total Bwd packets',\n",
       "       'Total Length of Fwd Packet', 'Total Length of Bwd Packet',\n",
       "       'Fwd Packet Length Max', 'Fwd Packet Length Min',\n",
       "       'Fwd Packet Length Mean', 'Fwd Packet Length Std',\n",
       "       'Bwd Packet Length Max', 'Bwd Packet Length Min',\n",
       "       'Bwd Packet Length Mean', 'Bwd Packet Length Std', 'Flow Bytes/s',\n",
       "       'Flow Packets/s', 'Flow IAT Mean', 'Flow IAT Std', 'Flow IAT Max',\n",
       "       'Flow IAT Min', 'Fwd IAT Total', 'Fwd IAT Mean', 'Fwd IAT Std',\n",
       "       'Fwd IAT Max', 'Fwd IAT Min', 'Bwd IAT Total', 'Bwd IAT Mean',\n",
       "       'Bwd IAT Std', 'Bwd IAT Max', 'Bwd IAT Min', 'Fwd PSH Flags',\n",
       "       'Bwd PSH Flags', 'Fwd URG Flags', 'Bwd URG Flags', 'Fwd Header Length',\n",
       "       'Bwd Header Length', 'Fwd Packets/s', 'Bwd Packets/s',\n",
       "       'Packet Length Min', 'Packet Length Max', 'Packet Length Mean',\n",
       "       'Packet Length Std', 'Packet Length Variance', 'FIN Flag Count',\n",
       "       'SYN Flag Count', 'RST Flag Count', 'PSH Flag Count', 'ACK Flag Count',\n",
       "       'URG Flag Count', 'CWR Flag Count', 'ECE Flag Count', 'Down/Up Ratio',\n",
       "       'Average Packet Size', 'Fwd Segment Size Avg', 'Bwd Segment Size Avg',\n",
       "       'Fwd Bytes/Bulk Avg', 'Fwd Packet/Bulk Avg', 'Fwd Bulk Rate Avg',\n",
       "       'Bwd Bytes/Bulk Avg', 'Bwd Packet/Bulk Avg', 'Bwd Bulk Rate Avg',\n",
       "       'Subflow Fwd Packets', 'Subflow Fwd Bytes', 'Subflow Bwd Packets',\n",
       "       'Subflow Bwd Bytes', 'FWD Init Win Bytes', 'Bwd Init Win Bytes',\n",
       "       'Fwd Act Data Pkts', 'Fwd Seg Size Min', 'Active Mean', 'Active Std',\n",
       "       'Active Max', 'Active Min', 'Idle Mean', 'Idle Std', 'Idle Max',\n",
       "       'Idle Min', 'Label'],\n",
       "      dtype='object')"
      ]
     },
     "execution_count": 86,
     "metadata": {},
     "output_type": "execute_result"
    }
   ],
   "source": [
    "my_data.columns"
   ]
  },
  {
   "cell_type": "code",
   "execution_count": 87,
   "id": "4409c10c",
   "metadata": {},
   "outputs": [
    {
     "data": {
      "text/plain": [
       "Index(['Dst Port', 'Protocol', 'Timestamp', 'Flow Duration', 'Tot Fwd Pkts',\n",
       "       'Tot Bwd Pkts', 'TotLen Fwd Pkts', 'TotLen Bwd Pkts', 'Fwd Pkt Len Max',\n",
       "       'Fwd Pkt Len Min', 'Fwd Pkt Len Mean', 'Fwd Pkt Len Std',\n",
       "       'Bwd Pkt Len Max', 'Bwd Pkt Len Min', 'Bwd Pkt Len Mean',\n",
       "       'Bwd Pkt Len Std', 'Flow Byts/s', 'Flow Pkts/s', 'Flow IAT Mean',\n",
       "       'Flow IAT Std', 'Flow IAT Max', 'Flow IAT Min', 'Fwd IAT Tot',\n",
       "       'Fwd IAT Mean', 'Fwd IAT Std', 'Fwd IAT Max', 'Fwd IAT Min',\n",
       "       'Bwd IAT Tot', 'Bwd IAT Mean', 'Bwd IAT Std', 'Bwd IAT Max',\n",
       "       'Bwd IAT Min', 'Fwd PSH Flags', 'Bwd PSH Flags', 'Fwd URG Flags',\n",
       "       'Bwd URG Flags', 'Fwd Header Len', 'Bwd Header Len', 'Fwd Pkts/s',\n",
       "       'Bwd Pkts/s', 'Pkt Len Min', 'Pkt Len Max', 'Pkt Len Mean',\n",
       "       'Pkt Len Std', 'Pkt Len Var', 'FIN Flag Cnt', 'SYN Flag Cnt',\n",
       "       'RST Flag Cnt', 'PSH Flag Cnt', 'ACK Flag Cnt', 'URG Flag Cnt',\n",
       "       'CWE Flag Count', 'ECE Flag Cnt', 'Down/Up Ratio', 'Pkt Size Avg',\n",
       "       'Fwd Seg Size Avg', 'Bwd Seg Size Avg', 'Fwd Byts/b Avg',\n",
       "       'Fwd Pkts/b Avg', 'Fwd Blk Rate Avg', 'Bwd Byts/b Avg',\n",
       "       'Bwd Pkts/b Avg', 'Bwd Blk Rate Avg', 'Subflow Fwd Pkts',\n",
       "       'Subflow Fwd Byts', 'Subflow Bwd Pkts', 'Subflow Bwd Byts',\n",
       "       'Init Fwd Win Byts', 'Init Bwd Win Byts', 'Fwd Act Data Pkts',\n",
       "       'Fwd Seg Size Min', 'Active Mean', 'Active Std', 'Active Max',\n",
       "       'Active Min', 'Idle Mean', 'Idle Std', 'Idle Max', 'Idle Min', 'Label'],\n",
       "      dtype='object')"
      ]
     },
     "execution_count": 87,
     "metadata": {},
     "output_type": "execute_result"
    }
   ],
   "source": [
    "df_sampled.columns"
   ]
  },
  {
   "cell_type": "code",
   "execution_count": 96,
   "id": "6a848c3a",
   "metadata": {},
   "outputs": [
    {
     "name": "stdout",
     "output_type": "stream",
     "text": [
      "Aynı kolonlar: ['Dst Port', 'Protocol', 'Timestamp', 'Flow Duration', 'Flow IAT Mean', 'Flow IAT Std', 'Flow IAT Max', 'Flow IAT Min', 'Fwd IAT Mean', 'Fwd IAT Std', 'Fwd IAT Max', 'Fwd IAT Min', 'Bwd IAT Mean', 'Bwd IAT Std', 'Bwd IAT Max', 'Bwd IAT Min', 'Fwd PSH Flags', 'Bwd PSH Flags', 'Fwd URG Flags', 'Bwd URG Flags', 'Down/Up Ratio', 'Fwd Act Data Pkts', 'Fwd Seg Size Min', 'Active Mean', 'Active Std', 'Active Max', 'Active Min', 'Idle Mean', 'Idle Std', 'Idle Max', 'Idle Min', 'Label']\n",
      "Aynı kolon sayısı: 32\n"
     ]
    }
   ],
   "source": [
    "common_cols = df.columns.intersection(df_sampled.columns)\n",
    "print(\"Aynı kolonlar:\", list(common_cols))\n",
    "print(\"Aynı kolon sayısı:\", len(common_cols))\n"
   ]
  },
  {
   "cell_type": "code",
   "execution_count": 97,
   "id": "3d5416c1",
   "metadata": {},
   "outputs": [
    {
     "name": "stdout",
     "output_type": "stream",
     "text": [
      "Sadece df'de olan kolonlar: ['ACK Flag Count', 'Average Packet Size', 'Bwd Bulk Rate Avg', 'Bwd Bytes/Bulk Avg', 'Bwd Header Length', 'Bwd IAT Total', 'Bwd Init Win Bytes', 'Bwd Packet Length Max', 'Bwd Packet Length Mean', 'Bwd Packet Length Min', 'Bwd Packet Length Std', 'Bwd Packet/Bulk Avg', 'Bwd Packets/s', 'Bwd Segment Size Avg', 'CWR Flag Count', 'ECE Flag Count', 'FIN Flag Count', 'FWD Init Win Bytes', 'Flow Bytes/s', 'Flow Packets/s', 'Fwd Bulk Rate Avg', 'Fwd Bytes/Bulk Avg', 'Fwd Header Length', 'Fwd IAT Total', 'Fwd Packet Length Max', 'Fwd Packet Length Mean', 'Fwd Packet Length Min', 'Fwd Packet Length Std', 'Fwd Packet/Bulk Avg', 'Fwd Packets/s', 'Fwd Segment Size Avg', 'PSH Flag Count', 'Packet Length Max', 'Packet Length Mean', 'Packet Length Min', 'Packet Length Std', 'Packet Length Variance', 'RST Flag Count', 'SYN Flag Count', 'Subflow Bwd Bytes', 'Subflow Bwd Packets', 'Subflow Fwd Bytes', 'Subflow Fwd Packets', 'Total Bwd packets', 'Total Fwd Packet', 'Total Length of Bwd Packet', 'Total Length of Fwd Packet', 'URG Flag Count']\n",
      "Sadece df_sampled'de olan kolonlar: ['ACK Flag Cnt', 'Bwd Blk Rate Avg', 'Bwd Byts/b Avg', 'Bwd Header Len', 'Bwd IAT Tot', 'Bwd Pkt Len Max', 'Bwd Pkt Len Mean', 'Bwd Pkt Len Min', 'Bwd Pkt Len Std', 'Bwd Pkts/b Avg', 'Bwd Pkts/s', 'Bwd Seg Size Avg', 'CWE Flag Count', 'ECE Flag Cnt', 'FIN Flag Cnt', 'Flow Byts/s', 'Flow Pkts/s', 'Fwd Blk Rate Avg', 'Fwd Byts/b Avg', 'Fwd Header Len', 'Fwd IAT Tot', 'Fwd Pkt Len Max', 'Fwd Pkt Len Mean', 'Fwd Pkt Len Min', 'Fwd Pkt Len Std', 'Fwd Pkts/b Avg', 'Fwd Pkts/s', 'Fwd Seg Size Avg', 'Init Bwd Win Byts', 'Init Fwd Win Byts', 'PSH Flag Cnt', 'Pkt Len Max', 'Pkt Len Mean', 'Pkt Len Min', 'Pkt Len Std', 'Pkt Len Var', 'Pkt Size Avg', 'RST Flag Cnt', 'SYN Flag Cnt', 'Subflow Bwd Byts', 'Subflow Bwd Pkts', 'Subflow Fwd Byts', 'Subflow Fwd Pkts', 'Tot Bwd Pkts', 'Tot Fwd Pkts', 'TotLen Bwd Pkts', 'TotLen Fwd Pkts', 'URG Flag Cnt']\n"
     ]
    }
   ],
   "source": [
    "only_in_df = df.columns.difference(df_sampled.columns)\n",
    "only_in_sampled = df_sampled.columns.difference(df.columns)\n",
    "\n",
    "print(\"Sadece df'de olan kolonlar:\", list(only_in_df))\n",
    "print(\"Sadece df_sampled'de olan kolonlar:\", list(only_in_sampled))\n"
   ]
  },
  {
   "cell_type": "code",
   "execution_count": null,
   "id": "9402150d",
   "metadata": {},
   "outputs": [],
   "source": [
    "# 1. df'deki kolon sayısı kadar df_sampled kolon ismi al\n",
    "new_column_names = list(df_sampled.columns[:len(df.columns)])\n",
    "\n",
    "df_renamed = df.copy()\n",
    "df_renamed.columns = new_column_names\n",
    "\n",
    "df_renamed.to_csv(\"df_renamed_columns.csv\", index=False)\n"
   ]
  },
  {
   "cell_type": "code",
   "execution_count": 105,
   "id": "e594a102",
   "metadata": {},
   "outputs": [
    {
     "name": "stdout",
     "output_type": "stream",
     "text": [
      "Ortak kolonlar: ['Dst Port', 'Protocol', 'Timestamp', 'Flow Duration', 'Tot Fwd Pkts', 'Tot Bwd Pkts', 'TotLen Fwd Pkts', 'TotLen Bwd Pkts', 'Fwd Pkt Len Max', 'Fwd Pkt Len Min', 'Fwd Pkt Len Mean', 'Fwd Pkt Len Std', 'Bwd Pkt Len Max', 'Bwd Pkt Len Min', 'Bwd Pkt Len Mean', 'Bwd Pkt Len Std', 'Flow Byts/s', 'Flow Pkts/s', 'Flow IAT Mean', 'Flow IAT Std', 'Flow IAT Max', 'Flow IAT Min', 'Fwd IAT Tot', 'Fwd IAT Mean', 'Fwd IAT Std', 'Fwd IAT Max', 'Fwd IAT Min', 'Bwd IAT Tot', 'Bwd IAT Mean', 'Bwd IAT Std', 'Bwd IAT Max', 'Bwd IAT Min', 'Fwd PSH Flags', 'Bwd PSH Flags', 'Fwd URG Flags', 'Bwd URG Flags', 'Fwd Header Len', 'Bwd Header Len', 'Fwd Pkts/s', 'Bwd Pkts/s', 'Pkt Len Min', 'Pkt Len Max', 'Pkt Len Mean', 'Pkt Len Std', 'Pkt Len Var', 'FIN Flag Cnt', 'SYN Flag Cnt', 'RST Flag Cnt', 'PSH Flag Cnt', 'ACK Flag Cnt', 'URG Flag Cnt', 'CWE Flag Count', 'ECE Flag Cnt', 'Down/Up Ratio', 'Pkt Size Avg', 'Fwd Seg Size Avg', 'Bwd Seg Size Avg', 'Fwd Byts/b Avg', 'Fwd Pkts/b Avg', 'Fwd Blk Rate Avg', 'Bwd Byts/b Avg', 'Bwd Pkts/b Avg', 'Bwd Blk Rate Avg', 'Subflow Fwd Pkts', 'Subflow Fwd Byts', 'Subflow Bwd Pkts', 'Subflow Bwd Byts', 'Init Fwd Win Byts', 'Init Bwd Win Byts', 'Fwd Act Data Pkts', 'Fwd Seg Size Min', 'Active Mean', 'Active Std', 'Active Max', 'Active Min', 'Idle Mean', 'Idle Std', 'Idle Max', 'Idle Min', 'Label']\n",
      "sayısı 80\n"
     ]
    }
   ],
   "source": [
    "\n",
    "common_cols = df_renamed.columns.intersection(df_sampled.columns)\n",
    "print(\"Ortak kolonlar:\", list(common_cols))\n",
    "print(\"sayısı\", len(common_cols))"
   ]
  },
  {
   "cell_type": "code",
   "execution_count": null,
   "id": "1a8bea37",
   "metadata": {},
   "outputs": [],
   "source": [
    "df_renamed = pd.read_csv(\"df_renamed_columns.csv\")"
   ]
  },
  {
   "cell_type": "code",
   "execution_count": 3,
   "id": "43f62179",
   "metadata": {},
   "outputs": [
    {
     "name": "stdout",
     "output_type": "stream",
     "text": [
      "object\n"
     ]
    }
   ],
   "source": [
    "print(df_renamed['Timestamp'].dtype)\n"
   ]
  },
  {
   "cell_type": "code",
   "execution_count": 4,
   "id": "d4f7209d",
   "metadata": {},
   "outputs": [],
   "source": [
    "df_renamed['Timestamp'] = df_renamed['Timestamp'].str[:19]"
   ]
  },
  {
   "cell_type": "code",
   "execution_count": 6,
   "id": "cdab8dc4",
   "metadata": {},
   "outputs": [],
   "source": [
    "df_renamed.to_csv(\"df_new.csv\", index=False, encoding=\"utf-8\")"
   ]
  }
 ],
 "metadata": {
  "kernelspec": {
   "display_name": "Python 3",
   "language": "python",
   "name": "python3"
  },
  "language_info": {
   "codemirror_mode": {
    "name": "ipython",
    "version": 3
   },
   "file_extension": ".py",
   "mimetype": "text/x-python",
   "name": "python",
   "nbconvert_exporter": "python",
   "pygments_lexer": "ipython3",
   "version": "3.10.5"
  }
 },
 "nbformat": 4,
 "nbformat_minor": 5
}
